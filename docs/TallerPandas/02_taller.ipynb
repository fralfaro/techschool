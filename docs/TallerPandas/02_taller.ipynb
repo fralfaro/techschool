{
 "cells": [
  {
   "cell_type": "markdown",
   "id": "19bdf2b9",
   "metadata": {},
   "source": [
    "<a href=\"https://colab.research.google.com/github/fralfaro/techschool/blob/features/taller_pandas/TallerPandas/02_taller.ipynb\" target=\"_parent\"><img src=\"https://colab.research.google.com/assets/colab-badge.svg\" alt=\"Open In Colab\"/></a>"
   ]
  },
  {
   "cell_type": "markdown",
   "id": "0c503e3f",
   "metadata": {},
   "source": [
    "# Taller Práctico"
   ]
  },
  {
   "cell_type": "markdown",
   "id": "f14e5df9",
   "metadata": {},
   "source": [
    "## Descripción del proyecto\n",
    "\n",
    "### Introducción \n",
    "\n",
    "<img src=\"https://svgsilh.com/svg/2073069.svg\" width = \"350\" >\n",
    "\n",
    "\n",
    "Siempre que realizamos un análisis tenemos que formular hipótesis que luego podamos poner a prueba. A veces aceptamos estas hipótesis; otras, las rechazamos. Para tomar las decisiones correctas, una empresa debe ser capaz de entender si está haciendo las suposiciones correctas.\n",
    "\n",
    "En este proyecto, compararás las preferencias musicales de las ciudades de **Springfield** y **Shelbyville**. Se examinarán datos reales de **Y.Music** para comprobar las hipótesis que se exponen a continuación y comparar el uso de los usuarios de estas dos ciudades.\n",
    "\n",
    "\n",
    "### Descripción de los datos\n",
    "\n",
    "Los datos se almacenan en el archivo `music_project.xlsx`, separado en las pestañas `Monday`, `Wednesday` y `Friday`.\n",
    "\n",
    "Cada pestaña, contiene las siguiente información:\n",
    "\n",
    "| Columna  | Descripción                          |\n",
    "|----------|--------------------------------------|\n",
    "| `userID` | Id. de usuario                       |\n",
    "| `Track`  | Título de la canción                 |\n",
    "| `artist` | Nombre del cantante o grupo          |\n",
    "| `genre`  | Género musical                       |\n",
    "| `City`   | Ciudad del usuario                   |\n",
    "| `time`   | Hora exacta en la que se escuchó la canción |\n",
    "| `Day`    | Día de la semana                     |"
   ]
  },
  {
   "cell_type": "markdown",
   "id": "1a4699b2",
   "metadata": {},
   "source": [
    "## Ejercicios\n",
    "\n",
    "\n",
    "### Hipótesis a verificar\n",
    "\n",
    "1. La actividad de los usuarios difiere según el día de la semana y dependiendo de la ciudad.\n",
    "2. Los lunes por la mañana, los habitantes de Springfield y Shelbyville escuchan diferentes géneros. Lo mismo ocurre con los viernes por la noche.\n",
    "3. Los oyentes de Springfield y Shelbyville tienen preferencias distintas. En Springfield prefieren el pop mientras que en Shelbyville hay más aficionados al rap."
   ]
  },
  {
   "cell_type": "markdown",
   "id": "e020e72f",
   "metadata": {},
   "source": [
    "### Solución del problema\n",
    "\n",
    "A continuación se le presentan una series de **paso a paso** para resolver el caso de uso. \n",
    "\n",
    "* Para ello tiene que agregar el correspondiente código en donde diga `#FIXME`.\n",
    "* Seguir las indicaciones que se les iran proporcionando."
   ]
  },
  {
   "cell_type": "markdown",
   "id": "a660f037",
   "metadata": {},
   "source": [
    "**Leer datos**\n",
    "\n",
    "1. Imprimir por pantalla el nombre de cada una de las hojas del archivo `music_project.xlsx`.\n",
    "2. Leer cada una de las hojas como un dataframe y juntarlos en un solo dataframe denominado `df`.\n",
    "  \n"
   ]
  },
  {
   "cell_type": "code",
   "execution_count": null,
   "id": "d3f3e324",
   "metadata": {},
   "outputs": [],
   "source": [
    "# librerias\n",
    "import pandas as pd"
   ]
  },
  {
   "cell_type": "code",
   "execution_count": null,
   "id": "571ce567",
   "metadata": {},
   "outputs": [],
   "source": [
    "# Especificar la ruta del archivo Excel\n",
    "excel_file = 'data/music_project.xlsx'\n",
    "\n",
    "# Lee los nombres de las hojas\n",
    "nombres_hojas = #FIXME\n",
    "\n",
    "# Imprimir la lista con el nombre de las hojas en excel\n",
    "nombres_hojas"
   ]
  },
  {
   "cell_type": "code",
   "execution_count": null,
   "id": "8d9bf1ea",
   "metadata": {},
   "outputs": [],
   "source": [
    "# Leer archivos\n",
    "df_monday = #FIXME\n",
    "df_wednesday = #FIXME\n",
    "df_friday = #FIXME"
   ]
  },
  {
   "cell_type": "code",
   "execution_count": null,
   "id": "7d794866",
   "metadata": {},
   "outputs": [],
   "source": [
    "# Juntar los DataFrames en uno solo\n",
    "df = pd.concat([df_monday, df_wednesday, df_friday], ignore_index=True)\n",
    "\n",
    "# Renombrar Columnas\n",
    "df.columns = df.columns.str.lower().str.strip()\n",
    "\n",
    "df = df.rename(columns = {\n",
    "    'userid':'user_id',\n",
    "})\n",
    "\n",
    "# Mostrar las primeras filas del DataFrame\n",
    "df.head(10)"
   ]
  },
  {
   "cell_type": "code",
   "execution_count": null,
   "id": "4a5f0494",
   "metadata": {},
   "outputs": [],
   "source": [
    "# Obtener las dimensiones del DataFrame\n",
    "print(\"Dimensiones del DataFrame:\")\n",
    "print(df.shape)"
   ]
  },
  {
   "cell_type": "code",
   "execution_count": null,
   "id": "707087ae",
   "metadata": {},
   "outputs": [],
   "source": [
    "# Mostrar información del DataFrame\n",
    "print(\"Información del DataFrame:\")\n",
    "df.info()"
   ]
  },
  {
   "cell_type": "markdown",
   "id": "99df267e",
   "metadata": {},
   "source": [
    "Podemos ver tres problemas con el estilo en los nombres de las columnas:\n",
    "1. Algunos nombres están en mayúsculas, otros en minúsculas.\n",
    "2. Hay espacios en algunos nombres.\n",
    "3. `Detecte usted mismo el tercer problema y descríbalo aquí`.\n",
    "\n",
    "El número de valores de columna es diferente. Esto significa que los datos contienen valores faltantes."
   ]
  },
  {
   "cell_type": "markdown",
   "id": "4febeb5e",
   "metadata": {},
   "source": [
    "**Conclusiones**: ...\n"
   ]
  },
  {
   "cell_type": "markdown",
   "id": "1d23cd57",
   "metadata": {},
   "source": [
    "**Missing Values**\n",
    "\n",
    "Primero, encuentra el número de valores que faltan en la tabla. Para hacerlo, usa dos métodos `pandas`:\n",
    "\n",
    "**> Ejercicio**: Calcular valores faltantes por columna"
   ]
  },
  {
   "cell_type": "code",
   "execution_count": null,
   "id": "90b9f7f7",
   "metadata": {},
   "outputs": [],
   "source": [
    "#FIXME"
   ]
  },
  {
   "cell_type": "markdown",
   "id": "3aaa9af8",
   "metadata": {},
   "source": [
    "No todos los valores faltantes afectan la investigación. Por ejemplo, los valores que faltan en `track` y `artist` no son críticos. Simplemente puede reemplazarlos con *clear markers*.\n",
    "\n",
    "Pero los valores faltantes en `'genre'` pueden afectar la comparación de las preferencias musicales en Springfield y Shelbyville. En la vida real, sería útil conocer las razones por las que faltan los datos e intentar compensarlos. Pero no tenemos esa oportunidad en este proyecto. Así que tendrás que:\n",
    "\n",
    "* Complete estos valores faltantes con marcadores\n",
    "* Evalúe cuánto pueden afectar los valores faltantes a sus cálculos\n",
    "\n",
    "Reemplace los valores faltantes en `'track'`, `'artist'` y `'genre'` con la cadena `'unknown'`. Para hacer esto, cree la lista `columns_to_replace`, recorra sobre ella con `for` y reemplace los valores que faltan en cada una de las columnas:"
   ]
  },
  {
   "cell_type": "code",
   "execution_count": null,
   "id": "ac119860",
   "metadata": {},
   "outputs": [],
   "source": [
    "# Recorrer los nombres de las columnas y reemplazar los valores faltantes con 'unknown'\n",
    "columns_to_replace = ['track', 'artist', 'genre']\n",
    "for col in columns_to_replace:\n",
    "    df[col] = #FIXME"
   ]
  },
  {
   "cell_type": "markdown",
   "id": "102f435c",
   "metadata": {},
   "source": [
    "**> Ejercicio**: Cuente los valores faltantes nuevamente"
   ]
  },
  {
   "cell_type": "code",
   "execution_count": null,
   "id": "81ef4bbf",
   "metadata": {},
   "outputs": [],
   "source": [
    "#FIXME"
   ]
  },
  {
   "cell_type": "markdown",
   "id": "7a004ac8",
   "metadata": {},
   "source": [
    "**Duplicates**\n",
    "\n",
    "Encuentra el número de duplicados obvios en la tabla usando un comando:\n",
    "\n",
    "\n",
    "**> Ejercicio**: Contar duplicados."
   ]
  },
  {
   "cell_type": "code",
   "execution_count": null,
   "id": "2e3f6a1c",
   "metadata": {},
   "outputs": [],
   "source": [
    "#FIXME"
   ]
  },
  {
   "cell_type": "markdown",
   "id": "3fde233d",
   "metadata": {},
   "source": [
    "Llame al método `pandas` para deshacerse de los duplicados obvios:\n",
    "\n",
    "**> Ejercicio**: Eliminar duplicados."
   ]
  },
  {
   "cell_type": "code",
   "execution_count": null,
   "id": "4735a618",
   "metadata": {},
   "outputs": [],
   "source": [
    "#FIXME"
   ]
  },
  {
   "cell_type": "markdown",
   "id": "12593d14",
   "metadata": {},
   "source": [
    "**> Ejercicio**:  Contar duplicados nuevamente."
   ]
  },
  {
   "cell_type": "code",
   "execution_count": null,
   "id": "e480022a",
   "metadata": {},
   "outputs": [],
   "source": [
    "#FIXME"
   ]
  },
  {
   "cell_type": "markdown",
   "id": "12534219",
   "metadata": {},
   "source": [
    "Ahora deshazte de los duplicados implícitos en la columna `genre`. Por ejemplo, el nombre de un género se puede escribir de diferentes formas. Dichos errores también afectarán el resultado.\n",
    "\n",
    "Imprima una lista de nombres de género únicos, ordenados en orden alfabético. Para hacerlo:\n",
    "* Recuperar la columna DataFrame deseada\n",
    "* Aplicarle un método de clasificación\n",
    "* Para la columna ordenada, llame al método que devolverá todos los valores de columna únicos\n",
    "\n",
    "**> Ejercicio**: Mostrar y ordenar nombres de 'genre' únicos. (`hint`: usar comando `sorted`)"
   ]
  },
  {
   "cell_type": "code",
   "execution_count": null,
   "id": "b94a4f96",
   "metadata": {},
   "outputs": [],
   "source": [
    "#FIXME"
   ]
  },
  {
   "cell_type": "markdown",
   "id": "943ccbc7",
   "metadata": {},
   "source": [
    "Mire a través de la lista para encontrar duplicados implícitos del género `hiphop`. Estos pueden ser nombres escritos incorrectamente o nombres alternativos del mismo género.\n",
    "\n",
    "Verá los siguientes duplicados implícitos:\n",
    "* `hip`\n",
    "* `hop`\n",
    "* `hip-hop`\n",
    "\n",
    "Para deshacerte de ellos, declara la función `replace_wrong_genres()` con dos parámetros:\n",
    "* `wrong_genres=` — la lista de duplicados\n",
    "* `correct_genre=` — la cadena con el valor correcto\n",
    "\n",
    "La función debería corregir los nombres en la columna `'genre'` de la tabla `df`, es decir, reemplazar cada valor de la lista `wrong_genres` con el valor en `correct_genre`."
   ]
  },
  {
   "cell_type": "code",
   "execution_count": null,
   "id": "a49d51d8",
   "metadata": {},
   "outputs": [],
   "source": [
    "# Funcion para reemplazar duplicados implicitos\n",
    "def replace_wrong_genres(df,wrong_genres,correct_genre):\n",
    "    for string in wrong_genres:\n",
    "        df.loc[lambda x: x['genre']==string,'genre'] = correct_genre\n",
    "    return df"
   ]
  },
  {
   "cell_type": "markdown",
   "id": "c1bc546c",
   "metadata": {},
   "source": [
    "Llame a `replace_wrong_genres()` y pásele argumentos para que borre los duplicados implícitos (`hip`, `hop` y `hip-hop`) y los reemplace con `hiphop`:"
   ]
  },
  {
   "cell_type": "code",
   "execution_count": null,
   "id": "af4df85d",
   "metadata": {},
   "outputs": [],
   "source": [
    "# Eliminar duplicados implicitos\n",
    "wrong_genres = ['hip','hop','hip-hop']\n",
    "correct_genre = 'hiphop'\n",
    "\n",
    "df = #FIXME"
   ]
  },
  {
   "cell_type": "markdown",
   "id": "e3a4ddbf",
   "metadata": {},
   "source": [
    "**> Ejercicio**: Mostrar y ordenar nombres de 'genre' únicos nuevamente. (`hint`: usar comando `sorted`)"
   ]
  },
  {
   "cell_type": "code",
   "execution_count": null,
   "id": "a5a1c06d",
   "metadata": {},
   "outputs": [],
   "source": [
    "#FIXME"
   ]
  },
  {
   "cell_type": "markdown",
   "id": "f9887411",
   "metadata": {},
   "source": [
    "**Conclusiones**: ..."
   ]
  },
  {
   "cell_type": "markdown",
   "id": "9e14a303",
   "metadata": {},
   "source": [
    "#### Testing hypotheses\n",
    "\n",
    "**Hipótesis 1: comparar el comportamiento de los usuarios en dos ciudades**\n",
    "\n",
    "Según la primera hipótesis, los usuarios de Springfield y Shelbyville escuchan música de manera diferente. Pruebe esto usando los datos de tres días de la semana: lunes, miércoles y viernes.\n",
    "\n",
    "* Divide a los usuarios en grupos por ciudad.\n",
    "* Compara cuántas pistas reprodujo cada grupo el lunes, miércoles y viernes.\n",
    "\n",
    "\n",
    "Por el bien de la práctica, realice cada cálculo por separado.\n",
    "\n",
    "Evaluar la actividad de los usuarios en cada ciudad. Agrupe los datos por ciudad y encuentre la cantidad de canciones que se reproducen en cada grupo.\n",
    "\n",
    "\n",
    "\n",
    "**Contando las pistas reproducidas en cada ciudad**\n",
    "\n",
    "Springfield tiene más pistas reproducidas que Shelbyville. Pero eso no implica que los ciudadanos de Springfield escuchen música con más frecuencia. Esta ciudad es simplemente más grande y hay más usuarios.\n",
    "\n",
    "Ahora agrupe los datos por día de la semana y encuentre el número de pistas reproducidas los lunes, miércoles y viernes.\n",
    "\n",
    "**> Ejercicio**: Calculo de pistas reproducidas en cada uno de los tres días. (`hint`: usar comando `groupby`)"
   ]
  },
  {
   "cell_type": "code",
   "execution_count": null,
   "id": "d06e5ee9",
   "metadata": {},
   "outputs": [],
   "source": [
    "#FIXME"
   ]
  },
  {
   "cell_type": "markdown",
   "id": "de59a2bd",
   "metadata": {},
   "source": [
    "El miércoles es el día más tranquilo en general. Pero si consideramos las dos ciudades por separado, podríamos llegar a una conclusión diferente.\n",
    "\n",
    "Has visto cómo funciona la agrupación por ciudad o día. Ahora escribe una función que se agrupe por ambos.\n",
    "\n",
    "Cree la función `number_tracks()` para calcular la cantidad de canciones reproducidas en un día y una ciudad determinados. Requerirá dos parámetros:\n",
    "* día de la semana\n",
    "* nombre de la ciudad\n",
    "\n",
    "En la función, use una variable para almacenar las filas de la tabla original, donde:\n",
    "   * El valor de la columna `'day'` es igual al parámetro `day`\n",
    "   * El valor de la columna `'city'` es igual al parámetro `city`\n",
    "\n",
    "Aplicar filtrado consecutivo con indexación lógica.\n",
    "\n",
    "Luego calcule los valores de la columna `'user_id'` en la tabla resultante. Almacene el resultado en una nueva variable. Devuelve esta variable de la función."
   ]
  },
  {
   "cell_type": "code",
   "execution_count": null,
   "id": "4c4259a4",
   "metadata": {},
   "outputs": [],
   "source": [
    "# Agrupar los datos por 'city' y 'day', y contar el número de ocurrencias de 'genre' en cada grupo\n",
    "df_city_day = df.groupby(['city', 'day'])['genre'].count().reset_index()\n",
    "\n",
    "# Pivotar la tabla para tener 'city' como índice, 'day' como columnas, y la suma de 'genre' como valores\n",
    "pivot_df = df_city_day.pivot_table(index='city', columns='day', values='genre', aggfunc='sum').reset_index()\n",
    "\n",
    "# Reordenar las columnas según el orden especificado\n",
    "pivot_df = pivot_df[['city', 'Monday', 'Wednesday', 'Friday']]\n",
    "\n",
    "# Imprimir el DataFrame resultante\n",
    "pivot_df"
   ]
  },
  {
   "cell_type": "markdown",
   "id": "1e58c58b",
   "metadata": {},
   "source": [
    "**Conclusiones**: ..."
   ]
  },
  {
   "cell_type": "markdown",
   "id": "cf40fb7b",
   "metadata": {},
   "source": [
    "**Hipótesis 2: música al principio y al final de la semana**\n",
    "\n",
    "Según la segunda hipótesis, el lunes por la mañana y el viernes por la noche, los ciudadanos de Springfield escuchan géneros diferentes a los que disfrutan los usuarios de Shelbyville.\n",
    "\n",
    "Obtenga los dataframes (asegúrese de que el nombre de su tabla combinada coincida con el dataframe proporcionado en los dos bloques de código a continuación):\n",
    "\n",
    "* Para Springfield — `spr_general`\n",
    "* Para Shelbyville — `shel_general`"
   ]
  },
  {
   "cell_type": "code",
   "execution_count": null,
   "id": "8856a39c",
   "metadata": {},
   "outputs": [],
   "source": [
    "# Definir 'spr_general', filtrar por ciudad igual a Springfield\n",
    "spr_general = #FIXME"
   ]
  },
  {
   "cell_type": "code",
   "execution_count": null,
   "id": "84b7f025",
   "metadata": {},
   "outputs": [],
   "source": [
    "# Definir 'shel_general', filtrar por ciudad igual a Shelbyville\n",
    "shel_general = #FIXME"
   ]
  },
  {
   "cell_type": "markdown",
   "id": "e6a52ad9",
   "metadata": {},
   "source": [
    "Escribe la función `genre_weekday()` con cuatro parámetros:\n",
    "* Una tabla para datos\n",
    "* El día de la semana\n",
    "* La primera marca de tiempo, en formato 'hh:mm'\n",
    "* La última marca de tiempo, en formato 'hh:mm'\n",
    "\n",
    "La función debe devolver información sobre los 15 géneros más populares en un día determinado dentro del período entre las dos marcas de tiempo."
   ]
  },
  {
   "cell_type": "code",
   "execution_count": 1,
   "id": "d337e76e",
   "metadata": {},
   "outputs": [],
   "source": [
    "# Declarar la funcion 'genero_weekday'\n",
    "def genre_weekday(df, day, time1, time2):\n",
    "    genre_list = df[(df['day'] == day) & (df['time'] > time1) & (df['time'] < time2)]\n",
    "    genre_list_sorted = genre_list.groupby('genre')['genre'].count().sort_values(ascending=False).head(10)\n",
    "    return genre_list_sorted"
   ]
  },
  {
   "cell_type": "markdown",
   "id": "43d31fd5",
   "metadata": {},
   "source": [
    "**> Ejercicio**:  Llamar a la funcion para el lunes por la mañana en Springfield ('07:00:00', '11:00:00'."
   ]
  },
  {
   "cell_type": "code",
   "execution_count": null,
   "id": "209408fb",
   "metadata": {},
   "outputs": [],
   "source": [
    "#FIXME"
   ]
  },
  {
   "cell_type": "markdown",
   "id": "dfbf7df9",
   "metadata": {},
   "source": [
    "**> Ejercicio**:  Llamar a la funcion para el lunes por la mañana en Shelbyville ('07:00:00', '11:00:00')."
   ]
  },
  {
   "cell_type": "code",
   "execution_count": null,
   "id": "289f450b",
   "metadata": {},
   "outputs": [],
   "source": [
    "#FIXME"
   ]
  },
  {
   "cell_type": "markdown",
   "id": "89fa40dc",
   "metadata": {},
   "source": [
    "**> Ejercicio**:  Llamar a la funcion para el viernes por la noche en Springfield ('17:00:00', '23:00:00')"
   ]
  },
  {
   "cell_type": "code",
   "execution_count": null,
   "id": "e5d40813",
   "metadata": {},
   "outputs": [],
   "source": [
    "#FIXME"
   ]
  },
  {
   "cell_type": "markdown",
   "id": "034356e8",
   "metadata": {},
   "source": [
    "**> Ejercicio**:  Llamar a la funcion para el viernes por la noche en Shelbyville ('17:00:00', '23:00:00')"
   ]
  },
  {
   "cell_type": "code",
   "execution_count": null,
   "id": "b518635d",
   "metadata": {},
   "outputs": [],
   "source": [
    "#FIXME"
   ]
  },
  {
   "cell_type": "markdown",
   "id": "6a58ca09",
   "metadata": {},
   "source": [
    "**Conclusiones**: ..."
   ]
  },
  {
   "cell_type": "markdown",
   "id": "5f480e6a",
   "metadata": {},
   "source": [
    "**Hipótesis 3: preferencias de género en Springfield y Shelbyvill**\n",
    "\n",
    "**Hipótesis**: Shelbyville ama la música rap. A los ciudadanos de Springfield les gusta más el pop.\n",
    "\n",
    "Agrupa la tabla `spr_general` por género y encuentra el número de canciones reproducidas para cada género con el método `count()`. Luego ordene el resultado en orden descendente y guárdelo en `spr_genres`."
   ]
  },
  {
   "cell_type": "code",
   "execution_count": null,
   "id": "0e1dbe7a",
   "metadata": {},
   "outputs": [],
   "source": [
    "# Contar cuántas veces aparece cada género musical en el DataFrame 'spr_general'\n",
    "# y ordenar los resultados de forma descendente.\n",
    "spr_genres = spr_general.groupby('genre')['genre'].count().sort_values(ascending=False)"
   ]
  },
  {
   "cell_type": "markdown",
   "id": "6b54331f",
   "metadata": {},
   "source": [
    "**> Ejercicio**:  Mostrar las primeras 10 filas de 'spr_genres'"
   ]
  },
  {
   "cell_type": "code",
   "execution_count": null,
   "id": "f947dbb1",
   "metadata": {},
   "outputs": [],
   "source": [
    "#FIXME"
   ]
  },
  {
   "cell_type": "markdown",
   "id": "b8d511ce",
   "metadata": {},
   "source": [
    "Ahora haz lo mismo con los datos de Shelbyville.\n",
    "\n",
    "Agrupa la tabla `shel_general` por género y encuentra el número de canciones reproducidas para cada género. Luego ordene el resultado en orden descendente y guárdelo en la tabla `shel_genres`:"
   ]
  },
  {
   "cell_type": "code",
   "execution_count": null,
   "id": "2be1def6",
   "metadata": {},
   "outputs": [],
   "source": [
    "# Contar cuántas veces aparece cada género musical en el DataFrame 'shel_general'\n",
    "# y ordenar los resultados de forma descendente.\n",
    "shel_genres = shel_general.groupby('genre')['genre'].count().sort_values(ascending=False)"
   ]
  },
  {
   "cell_type": "markdown",
   "id": "8c96a9a0",
   "metadata": {},
   "source": [
    "**> Ejercicio**:  Mostrar las primeras 10 filas de 'shel_genres'"
   ]
  },
  {
   "cell_type": "code",
   "execution_count": null,
   "id": "3ad6a620",
   "metadata": {},
   "outputs": [],
   "source": [
    "#FIXME"
   ]
  },
  {
   "cell_type": "markdown",
   "id": "bf0f6290",
   "metadata": {},
   "source": [
    "**Conclusiones**: ..."
   ]
  },
  {
   "cell_type": "markdown",
   "id": "5a9df6b8",
   "metadata": {},
   "source": [
    "### Conclusiones Generales del caso de estudio\n",
    "\n",
    "_Conclusiones deben contener información desde la limpieza de datos hasta la validación o refutación de las tres hipótesis_"
   ]
  }
 ],
 "metadata": {
  "kernelspec": {
   "display_name": "Python 3 (ipykernel)",
   "language": "python",
   "name": "python3"
  },
  "language_info": {
   "codemirror_mode": {
    "name": "ipython",
    "version": 3
   },
   "file_extension": ".py",
   "mimetype": "text/x-python",
   "name": "python",
   "nbconvert_exporter": "python",
   "pygments_lexer": "ipython3",
   "version": "3.8.10"
  },
  "nbTranslate": {
   "displayLangs": [
    "*"
   ],
   "hotkey": "alt-t",
   "langInMainMenu": true,
   "sourceLang": "en",
   "targetLang": "fr",
   "useGoogleTranslate": true
  }
 },
 "nbformat": 4,
 "nbformat_minor": 5
}
